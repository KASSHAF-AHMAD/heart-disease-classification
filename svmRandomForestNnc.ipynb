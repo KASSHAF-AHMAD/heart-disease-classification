{
  "nbformat": 4,
  "nbformat_minor": 0,
  "metadata": {
    "colab": {
      "name": "18101094_Mohtasim Abrar Samin_Assign06.ipynb",
      "provenance": [],
      "collapsed_sections": []
    },
    "kernelspec": {
      "name": "python3",
      "display_name": "Python 3"
    }
  },
  "cells": [
    {
      "cell_type": "code",
      "metadata": {
        "colab": {
          "resources": {
            "http://localhost:8080/nbextensions/google.colab/files.js": {
              "data": "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",
              "ok": true,
              "headers": [
                [
                  "content-type",
                  "application/javascript"
                ]
              ],
              "status": 200,
              "status_text": ""
            }
          },
          "base_uri": "https://localhost:8080/",
          "height": 72
        },
        "id": "S9FH1BpxF05q",
        "outputId": "f7f203cf-f2cb-4b1c-d662-208b123d5a76"
      },
      "source": [
        "from google.colab import files\r\n",
        "uploaded = files.upload()"
      ],
      "execution_count": 3,
      "outputs": [
        {
          "output_type": "display_data",
          "data": {
            "text/html": [
              "\n",
              "     <input type=\"file\" id=\"files-36ac191e-5e98-499e-927b-aab052248631\" name=\"files[]\" multiple disabled\n",
              "        style=\"border:none\" />\n",
              "     <output id=\"result-36ac191e-5e98-499e-927b-aab052248631\">\n",
              "      Upload widget is only available when the cell has been executed in the\n",
              "      current browser session. Please rerun this cell to enable.\n",
              "      </output>\n",
              "      <script src=\"/nbextensions/google.colab/files.js\"></script> "
            ],
            "text/plain": [
              "<IPython.core.display.HTML object>"
            ]
          },
          "metadata": {
            "tags": []
          }
        },
        {
          "output_type": "stream",
          "text": [
            "Saving heart disease classification dataset.csv to heart disease classification dataset.csv\n"
          ],
          "name": "stdout"
        }
      ]
    },
    {
      "cell_type": "code",
      "metadata": {
        "id": "plYMFSdU6qSf"
      },
      "source": [
        "import pandas as pd\r\n",
        "import numpy as np\r\n",
        "import matplotlib.pyplot as plt\r\n",
        "import seaborn as sns\r\n",
        "from sklearn.metrics import accuracy_score\r\n",
        "from sklearn.model_selection import train_test_split\r\n",
        "from sklearn.metrics import classification_report\r\n",
        "from sklearn.impute import SimpleImputer\r\n",
        "from sklearn.svm import SVC\r\n",
        "from sklearn.ensemble import RandomForestClassifier\r\n",
        "from sklearn.neural_network import MLPClassifier\r\n",
        "from sklearn.decomposition import PCA \r\n",
        "from sklearn.preprocessing import StandardScaler"
      ],
      "execution_count": 143,
      "outputs": []
    },
    {
      "cell_type": "code",
      "metadata": {
        "colab": {
          "base_uri": "https://localhost:8080/"
        },
        "id": "UKEVMAfqEuQ-",
        "outputId": "bd551a60-2ff1-4295-c850-3c394b47a800"
      },
      "source": [
        "data = pd.read_csv('heart disease classification dataset.csv')\r\n",
        "data=data.drop('index', axis=1) # Edited the first column header and added index as header name so that I can drop that column\r\n",
        "\r\n",
        "impute = SimpleImputer(missing_values=np.nan, strategy='most_frequent')\r\n",
        "\r\n",
        "impute.fit(data[['trestbps']])\r\n",
        "impute.fit(data[['chol']])\r\n",
        "impute.fit(data[['thalach']])\r\n",
        "\r\n",
        "data['trestbps'] = impute.transform(data[['trestbps']])\r\n",
        "data['chol'] = impute.transform(data[['chol']])\r\n",
        "data['thalach'] = impute.transform(data[['thalach']])\r\n",
        "\r\n",
        "X = data.iloc[:,2:13]\r\n",
        "y = data.iloc[:,13]\r\n",
        "x_train,x_test,y_train,y_test = train_test_split(X,y,test_size=0.2,random_state=2)\r\n",
        "svm = SVC(kernel=\"linear\")\r\n",
        "svm.fit(x_train, y_train)\r\n",
        "prePcaSvmTrainScore = round(svm.score(x_train, y_train)*100,2)\r\n",
        "prePcaSvmTestScore = round(svm.score(x_test, y_test)*100,2)\r\n",
        "print(\"Training accuracy of SVM is \" + str(prePcaSvmTrainScore))\r\n",
        "print(\"Testing accuracy of SVM is \"+ str(prePcaSvmTestScore))"
      ],
      "execution_count": 228,
      "outputs": [
        {
          "output_type": "stream",
          "text": [
            "Training accuracy of SVM is 83.88\n",
            "Testing accuracy of SVM is 90.16\n"
          ],
          "name": "stdout"
        }
      ]
    },
    {
      "cell_type": "code",
      "metadata": {
        "colab": {
          "base_uri": "https://localhost:8080/"
        },
        "id": "EG_eQAjC1ys5",
        "outputId": "ee463747-67f2-4fa5-c2e9-ae313fceee96"
      },
      "source": [
        "data = pd.read_csv('heart disease classification dataset.csv')\r\n",
        "data=data.drop('index', axis=1) # Edited the first column header and added index as header name so that I can drop that column\r\n",
        "\r\n",
        "impute = SimpleImputer(missing_values=np.nan, strategy='most_frequent')\r\n",
        "\r\n",
        "impute.fit(data[['trestbps']])\r\n",
        "impute.fit(data[['chol']])\r\n",
        "impute.fit(data[['thalach']])\r\n",
        "\r\n",
        "data['trestbps'] = impute.transform(data[['trestbps']])\r\n",
        "data['chol'] = impute.transform(data[['chol']])\r\n",
        "data['thalach'] = impute.transform(data[['thalach']])\r\n",
        "\r\n",
        "X = data.iloc[:,2:13]\r\n",
        "y = data.iloc[:,13]\r\n",
        "x_train,x_test,y_train,y_test = train_test_split(X,y,test_size=0.2,random_state=5)\r\n",
        "rfc = RandomForestClassifier(n_estimators=50)\r\n",
        "rfc.fit(x_train, y_train)\r\n",
        "prePcaRfcTrainScore = round(rfc.score(x_train, y_train)*100,2)\r\n",
        "prePcaRfcTestScore = round(rfc.score(x_test, y_test)*100,2)\r\n",
        "print(\"Training accuracy of Random Forest is \" + str(prePcaRfcTrainScore))\r\n",
        "print(\"Testing accuracy of Random Forest is \"+ str(prePcaRfcTestScore))"
      ],
      "execution_count": 229,
      "outputs": [
        {
          "output_type": "stream",
          "text": [
            "Training accuracy of Random Forest is 100.0\n",
            "Testing accuracy of Random Forest is 91.8\n"
          ],
          "name": "stdout"
        }
      ]
    },
    {
      "cell_type": "code",
      "metadata": {
        "colab": {
          "base_uri": "https://localhost:8080/"
        },
        "id": "bGSyYAmx2Sn1",
        "outputId": "22aa171a-7a97-43ac-8554-b431f3c3d173"
      },
      "source": [
        "data = pd.read_csv('heart disease classification dataset.csv')\r\n",
        "data=data.drop('index', axis=1) # Edited the first column header and added index as header name so that I can drop that column\r\n",
        "\r\n",
        "impute = SimpleImputer(missing_values=np.nan, strategy='most_frequent')\r\n",
        "\r\n",
        "impute.fit(data[['trestbps']])\r\n",
        "impute.fit(data[['chol']])\r\n",
        "impute.fit(data[['thalach']])\r\n",
        "\r\n",
        "data['trestbps'] = impute.transform(data[['trestbps']])\r\n",
        "data['chol'] = impute.transform(data[['chol']])\r\n",
        "data['thalach'] = impute.transform(data[['thalach']])\r\n",
        "\r\n",
        "X = data.iloc[:,2:13]\r\n",
        "y = data.iloc[:,13]\r\n",
        "x_train,x_test,y_train,y_test = train_test_split(X,y,test_size=0.2,random_state=5)\r\n",
        "nnc=MLPClassifier(hidden_layer_sizes=(10), activation=\"relu\", max_iter=10000)\r\n",
        "nnc.fit(x_train, y_train)\r\n",
        "prePcaNncTrainScore = round(nnc.score(x_train, y_train)*100,2)\r\n",
        "prePcaNncTestScore = round(nnc.score(x_test, y_test)*100,2)\r\n",
        "print(\"Training accuracy of NNC is \" + str(prePcaNncTrainScore))\r\n",
        "print(\"Testing accuracy of NNC is \"+ str(prePcaNncTestScore))"
      ],
      "execution_count": 231,
      "outputs": [
        {
          "output_type": "stream",
          "text": [
            "Training accuracy of NNC is 80.58\n",
            "Testing accuracy of NNC is 85.25\n"
          ],
          "name": "stdout"
        }
      ]
    },
    {
      "cell_type": "code",
      "metadata": {
        "colab": {
          "base_uri": "https://localhost:8080/",
          "height": 197
        },
        "id": "0eZPPCLt42xh",
        "outputId": "ea5244a4-838c-40df-f6d7-d35c17f8c442"
      },
      "source": [
        "data = pd.read_csv('heart disease classification dataset.csv')\r\n",
        "data=data.drop('index', axis=1) # Edited the first column header and added index as header name so that I can drop that column\r\n",
        "\r\n",
        "impute = SimpleImputer(missing_values=np.nan, strategy='most_frequent')\r\n",
        "\r\n",
        "impute.fit(data[['trestbps']])\r\n",
        "impute.fit(data[['chol']])\r\n",
        "impute.fit(data[['thalach']])\r\n",
        "\r\n",
        "data['trestbps'] = impute.transform(data[['trestbps']])\r\n",
        "data['chol'] = impute.transform(data[['chol']])\r\n",
        "data['thalach'] = impute.transform(data[['thalach']])\r\n",
        "pd.options.mode.chained_assignment = None  # default='warn'\r\n",
        "data.sex[data.sex == 'female'] = 0 \r\n",
        "data.sex[data.sex == 'male'] = 1 \r\n",
        "\r\n",
        "data.target[data.target == 'no'] = 0 \r\n",
        "data.target[data.target == 'yes'] = 1 \r\n",
        "\r\n",
        "scaler= StandardScaler()\r\n",
        "scaledData = scaler.fit_transform(data)\r\n",
        "\r\n",
        "n = int (data.shape[1]/2)\r\n",
        "\r\n",
        "pca = PCA(n_components=n)\r\n",
        "principal_components= pca.fit_transform(scaledData)\r\n",
        "\r\n",
        "principal_df = pd.DataFrame(data=principal_components, columns=[\"principle component 1\", \"principle component 2\",\"principle component 3\",\"principle component 4\",\"principle component 5\",\"principle component 6\",\"principle component 7\"])\r\n",
        "main_df=pd.concat([principal_df, data[[\"target\"]]], axis=1)\r\n",
        "main_df.head()\r\n"
      ],
      "execution_count": 160,
      "outputs": [
        {
          "output_type": "execute_result",
          "data": {
            "text/html": [
              "<div>\n",
              "<style scoped>\n",
              "    .dataframe tbody tr th:only-of-type {\n",
              "        vertical-align: middle;\n",
              "    }\n",
              "\n",
              "    .dataframe tbody tr th {\n",
              "        vertical-align: top;\n",
              "    }\n",
              "\n",
              "    .dataframe thead th {\n",
              "        text-align: right;\n",
              "    }\n",
              "</style>\n",
              "<table border=\"1\" class=\"dataframe\">\n",
              "  <thead>\n",
              "    <tr style=\"text-align: right;\">\n",
              "      <th></th>\n",
              "      <th>principle component 1</th>\n",
              "      <th>principle component 2</th>\n",
              "      <th>principle component 3</th>\n",
              "      <th>principle component 4</th>\n",
              "      <th>principle component 5</th>\n",
              "      <th>principle component 6</th>\n",
              "      <th>principle component 7</th>\n",
              "      <th>target</th>\n",
              "    </tr>\n",
              "  </thead>\n",
              "  <tbody>\n",
              "    <tr>\n",
              "      <th>0</th>\n",
              "      <td>-0.084314</td>\n",
              "      <td>2.536555</td>\n",
              "      <td>0.890888</td>\n",
              "      <td>3.549690</td>\n",
              "      <td>0.275661</td>\n",
              "      <td>1.807430</td>\n",
              "      <td>-0.215444</td>\n",
              "      <td>1</td>\n",
              "    </tr>\n",
              "    <tr>\n",
              "      <th>1</th>\n",
              "      <td>-0.821685</td>\n",
              "      <td>-0.699143</td>\n",
              "      <td>-0.455159</td>\n",
              "      <td>2.837999</td>\n",
              "      <td>2.127356</td>\n",
              "      <td>-0.774023</td>\n",
              "      <td>-0.314301</td>\n",
              "      <td>1</td>\n",
              "    </tr>\n",
              "    <tr>\n",
              "      <th>2</th>\n",
              "      <td>-2.060801</td>\n",
              "      <td>-0.035940</td>\n",
              "      <td>-0.555508</td>\n",
              "      <td>0.043903</td>\n",
              "      <td>0.862594</td>\n",
              "      <td>0.719376</td>\n",
              "      <td>-0.057917</td>\n",
              "      <td>1</td>\n",
              "    </tr>\n",
              "    <tr>\n",
              "      <th>3</th>\n",
              "      <td>-1.899970</td>\n",
              "      <td>-0.615861</td>\n",
              "      <td>0.058671</td>\n",
              "      <td>-0.082125</td>\n",
              "      <td>-0.253955</td>\n",
              "      <td>-0.479600</td>\n",
              "      <td>-0.165977</td>\n",
              "      <td>1</td>\n",
              "    </tr>\n",
              "    <tr>\n",
              "      <th>4</th>\n",
              "      <td>-0.424639</td>\n",
              "      <td>1.556274</td>\n",
              "      <td>-1.690171</td>\n",
              "      <td>-1.823221</td>\n",
              "      <td>0.404175</td>\n",
              "      <td>-0.615190</td>\n",
              "      <td>2.205942</td>\n",
              "      <td>1</td>\n",
              "    </tr>\n",
              "  </tbody>\n",
              "</table>\n",
              "</div>"
            ],
            "text/plain": [
              "   principle component 1  principle component 2  ...  principle component 7  target\n",
              "0              -0.084314               2.536555  ...              -0.215444       1\n",
              "1              -0.821685              -0.699143  ...              -0.314301       1\n",
              "2              -2.060801              -0.035940  ...              -0.057917       1\n",
              "3              -1.899970              -0.615861  ...              -0.165977       1\n",
              "4              -0.424639               1.556274  ...               2.205942       1\n",
              "\n",
              "[5 rows x 8 columns]"
            ]
          },
          "metadata": {
            "tags": []
          },
          "execution_count": 160
        }
      ]
    },
    {
      "cell_type": "code",
      "metadata": {
        "colab": {
          "base_uri": "https://localhost:8080/"
        },
        "id": "YbOGsJqoDYPp",
        "outputId": "01fff3ca-c111-4d1a-fe8c-83515c6b6d86"
      },
      "source": [
        "X= main_df.drop(\"target\" , axis=1)\r\n",
        "y= main_df[\"target\"]\r\n",
        "y=y.astype('int')\r\n",
        "x_train,x_test,y_train,y_test = train_test_split(X,y,test_size=0.2,random_state=4)\r\n",
        "svm = SVC(kernel=\"linear\")\r\n",
        "svm.fit(x_train, y_train)\r\n",
        "postPcaSvmTrainScore = round(svm.score(x_train, y_train)*100,2)\r\n",
        "postPcaSvmTestScore = round(svm.score(x_test, y_test)*100,2)\r\n",
        "print(\"Training accuracy of SVM post PCA is \" + str(postPcaSvmTrainScore))\r\n",
        "print(\"Testing accuracy of SVM post PCA is \"+ str(postPcaSvmTestScore))"
      ],
      "execution_count": 232,
      "outputs": [
        {
          "output_type": "stream",
          "text": [
            "Training accuracy of SVM post PCA is 93.8\n",
            "Testing accuracy of SVM post PCA is 96.72\n"
          ],
          "name": "stdout"
        }
      ]
    },
    {
      "cell_type": "code",
      "metadata": {
        "colab": {
          "base_uri": "https://localhost:8080/"
        },
        "id": "SsQjegY6ETRJ",
        "outputId": "cd5aa4e7-31f6-475a-9776-f5bd0a5d8565"
      },
      "source": [
        "X= main_df.drop(\"target\" , axis=1)\r\n",
        "y= main_df[\"target\"]\r\n",
        "y=y.astype('int')\r\n",
        "x_train,x_test,y_train,y_test = train_test_split(X,y,test_size=0.2,random_state=5)\r\n",
        "rfc = RandomForestClassifier(n_estimators=50)\r\n",
        "rfc.fit(x_train, y_train)\r\n",
        "postPcaRfcTrainScore = round(rfc.score(x_train, y_train)*100,2)\r\n",
        "postPcaRfcTestScore = round(rfc.score(x_test, y_test)*100,2)\r\n",
        "print(\"Training accuracy of Random Forest post PCA is \" + str(postPcaRfcTrainScore))\r\n",
        "print(\"Testing accuracy of Random Forest post PCA is \"+ str(postPcaRfcTestScore))"
      ],
      "execution_count": 233,
      "outputs": [
        {
          "output_type": "stream",
          "text": [
            "Training accuracy of Random Forest post PCA is 100.0\n",
            "Testing accuracy of Random Forest post PCA is 95.08\n"
          ],
          "name": "stdout"
        }
      ]
    },
    {
      "cell_type": "code",
      "metadata": {
        "colab": {
          "base_uri": "https://localhost:8080/"
        },
        "id": "ZpHgrHAPEzgI",
        "outputId": "0165bbeb-fa4d-44df-8a0d-49db5847d10b"
      },
      "source": [
        "X= main_df.drop(\"target\" , axis=1)\r\n",
        "y= main_df[\"target\"]\r\n",
        "y=y.astype('int')\r\n",
        "x_train,x_test,y_train,y_test = train_test_split(X,y,test_size=0.2,random_state=5)\r\n",
        "nnc=MLPClassifier(hidden_layer_sizes=(10), activation=\"relu\", max_iter=10000)\r\n",
        "nnc.fit(x_train, y_train)\r\n",
        "postPcaNncTrainScore = round(nnc.score(x_train, y_train)*100,2)\r\n",
        "postPcaNncTestScore = round(nnc.score(x_test, y_test)*100,2)\r\n",
        "print(\"Training accuracy of NNC post PCA is \" + str(postPcaNncTrainScore))\r\n",
        "print(\"Testing accuracy of NNC post PCA is \"+ str(postPcaNncTestScore))"
      ],
      "execution_count": 234,
      "outputs": [
        {
          "output_type": "stream",
          "text": [
            "Training accuracy of NNC post PCA is 95.45\n",
            "Testing accuracy of NNC post PCA is 95.08\n"
          ],
          "name": "stdout"
        }
      ]
    },
    {
      "cell_type": "code",
      "metadata": {
        "colab": {
          "base_uri": "https://localhost:8080/",
          "height": 382
        },
        "id": "5hgVD-kgASTo",
        "outputId": "93bcd4e6-3a3a-4b7e-e868-2eac26a02777"
      },
      "source": [
        "data = [[prePcaSvmTestScore, prePcaRfcTestScore, prePcaNncTestScore],\r\n",
        "[postPcaSvmTestScore, postPcaRfcTestScore, postPcaNncTestScore],\r\n",
        "[prePcaSvmTrainScore, prePcaRfcTrainScore, prePcaNncTrainScore],\r\n",
        "[postPcaSvmTrainScore, postPcaRfcTrainScore, postPcaNncTrainScore]]\r\n",
        "X = np.arange(3)\r\n",
        "\r\n",
        "fig = plt.figure()\r\n",
        "\r\n",
        "ax = fig.add_axes([0,0,1,1])\r\n",
        "\r\n",
        "ax.bar(X + 0.00, data[0], color = 'blue', width = 0.20)\r\n",
        "ax.bar(X + 0.20, data[1], color = 'green', width = 0.20)\r\n",
        "ax.bar(X + 0.40, data[2], color = 'red', width = 0.20)\r\n",
        "ax.bar(X + 0.60, data[3], color = 'maroon', width = 0.20)\r\n",
        "\r\n",
        "ax.legend(labels=['Pre PCA Test', 'Post PCA Test','Pre PCA Train','Post PCA Train'])\r\n",
        "\r\n",
        "plt.ylabel('Percentage')\r\n",
        "plt.xlabel('SVM (left), Random Forest (middle), NNC (right)')\r\n",
        "plt.title('Test Score')"
      ],
      "execution_count": 253,
      "outputs": [
        {
          "output_type": "execute_result",
          "data": {
            "text/plain": [
              "Text(0.5, 1.0, 'Test Score')"
            ]
          },
          "metadata": {
            "tags": []
          },
          "execution_count": 253
        },
        {
          "output_type": "display_data",
          "data": {
            "image/png": "[encoded data removed]",
            "text/plain": [
              "<Figure size 432x288 with 1 Axes>"
            ]
          },
          "metadata": {
            "tags": [],
            "needs_background": "light"
          }
        }
      ]
    }
  ]
}